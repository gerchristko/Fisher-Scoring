{
 "cells": [
  {
   "cell_type": "code",
   "execution_count": 372,
   "id": "823d91b3",
   "metadata": {},
   "outputs": [],
   "source": [
    "import pandas as pd\n",
    "import numpy as np\n",
    "from scipy import stats"
   ]
  },
  {
   "cell_type": "code",
   "execution_count": 373,
   "id": "f177a482",
   "metadata": {},
   "outputs": [],
   "source": [
    "df = pd.read_csv(\"data.csv\")\n",
    "df[\"Species\"] = np.where(df[\"Species\"] == \"Dog\", 1, 0)"
   ]
  },
  {
   "cell_type": "code",
   "execution_count": 374,
   "id": "a37dff95",
   "metadata": {},
   "outputs": [],
   "source": [
    "X = df.drop(\"Species\", axis = 1)\n",
    "\n",
    "for col in X.columns:\n",
    "    X[col] = (X[col] - X[col].mean()) / X[col].std()\n",
    "    #X[col] = stats.zscore(X[col])\n",
    "    \n",
    "y = df[\"Species\"]\n",
    "X.insert(0, \"Intercept\", 1)"
   ]
  },
  {
   "cell_type": "code",
   "execution_count": 375,
   "id": "30aa113d",
   "metadata": {},
   "outputs": [
    {
     "data": {
      "text/html": [
       "<div>\n",
       "<style scoped>\n",
       "    .dataframe tbody tr th:only-of-type {\n",
       "        vertical-align: middle;\n",
       "    }\n",
       "\n",
       "    .dataframe tbody tr th {\n",
       "        vertical-align: top;\n",
       "    }\n",
       "\n",
       "    .dataframe thead th {\n",
       "        text-align: right;\n",
       "    }\n",
       "</style>\n",
       "<table border=\"1\" class=\"dataframe\">\n",
       "  <thead>\n",
       "    <tr style=\"text-align: right;\">\n",
       "      <th></th>\n",
       "      <th>Intercept</th>\n",
       "      <th>Height</th>\n",
       "      <th>Weight</th>\n",
       "    </tr>\n",
       "  </thead>\n",
       "  <tbody>\n",
       "    <tr>\n",
       "      <th>0</th>\n",
       "      <td>1</td>\n",
       "      <td>1.489381</td>\n",
       "      <td>1.153415</td>\n",
       "    </tr>\n",
       "    <tr>\n",
       "      <th>1</th>\n",
       "      <td>1</td>\n",
       "      <td>1.811009</td>\n",
       "      <td>0.944967</td>\n",
       "    </tr>\n",
       "    <tr>\n",
       "      <th>2</th>\n",
       "      <td>1</td>\n",
       "      <td>-0.044533</td>\n",
       "      <td>0.342782</td>\n",
       "    </tr>\n",
       "    <tr>\n",
       "      <th>3</th>\n",
       "      <td>1</td>\n",
       "      <td>-0.366160</td>\n",
       "      <td>1.130254</td>\n",
       "    </tr>\n",
       "    <tr>\n",
       "      <th>4</th>\n",
       "      <td>1</td>\n",
       "      <td>0.153391</td>\n",
       "      <td>-0.792104</td>\n",
       "    </tr>\n",
       "    <tr>\n",
       "      <th>5</th>\n",
       "      <td>1</td>\n",
       "      <td>-1.603188</td>\n",
       "      <td>-1.834347</td>\n",
       "    </tr>\n",
       "    <tr>\n",
       "      <th>6</th>\n",
       "      <td>1</td>\n",
       "      <td>-0.143495</td>\n",
       "      <td>-0.676300</td>\n",
       "    </tr>\n",
       "    <tr>\n",
       "      <th>7</th>\n",
       "      <td>1</td>\n",
       "      <td>-0.440382</td>\n",
       "      <td>-0.792104</td>\n",
       "    </tr>\n",
       "    <tr>\n",
       "      <th>8</th>\n",
       "      <td>1</td>\n",
       "      <td>-0.737269</td>\n",
       "      <td>-0.027793</td>\n",
       "    </tr>\n",
       "    <tr>\n",
       "      <th>9</th>\n",
       "      <td>1</td>\n",
       "      <td>-0.118755</td>\n",
       "      <td>0.551231</td>\n",
       "    </tr>\n",
       "  </tbody>\n",
       "</table>\n",
       "</div>"
      ],
      "text/plain": [
       "   Intercept    Height    Weight\n",
       "0          1  1.489381  1.153415\n",
       "1          1  1.811009  0.944967\n",
       "2          1 -0.044533  0.342782\n",
       "3          1 -0.366160  1.130254\n",
       "4          1  0.153391 -0.792104\n",
       "5          1 -1.603188 -1.834347\n",
       "6          1 -0.143495 -0.676300\n",
       "7          1 -0.440382 -0.792104\n",
       "8          1 -0.737269 -0.027793\n",
       "9          1 -0.118755  0.551231"
      ]
     },
     "execution_count": 375,
     "metadata": {},
     "output_type": "execute_result"
    }
   ],
   "source": [
    "X"
   ]
  },
  {
   "cell_type": "markdown",
   "id": "e3ef2a62",
   "metadata": {},
   "source": [
    "## <font color = \"brown\"> Calculate First Derivative </font>"
   ]
  },
  {
   "cell_type": "code",
   "execution_count": 376,
   "id": "0c64cf15",
   "metadata": {},
   "outputs": [],
   "source": [
    "def ProbHat(x, b):\n",
    "    \n",
    "    # Calculate predicted probability given X and beta\n",
    "    Xtb = np.dot(x, b)\n",
    "    eXtb = np.exp(-Xtb)\n",
    "    return 1 / (1 + eXtb)"
   ]
  },
  {
   "cell_type": "code",
   "execution_count": 377,
   "id": "1b05340e",
   "metadata": {},
   "outputs": [],
   "source": [
    "def PartialIndRow(yi, xi, beta, xij):\n",
    "    \n",
    "    # Calculate the partial derivative value for each row\n",
    "    return xij * (yi - ProbHat(xi, beta))"
   ]
  },
  {
   "cell_type": "code",
   "execution_count": 378,
   "id": "9f741ae2",
   "metadata": {},
   "outputs": [],
   "source": [
    "def PartialIndBeta(y, X, beta, j):\n",
    "    \n",
    "    # Calculating derivatives Log-Likelihood with respect to beta-j\n",
    "    xj = X.iloc[:,j]\n",
    "    PartialList = [PartialIndRow(y, x, beta, j) for y, x, j in zip(y.to_numpy(), X.to_numpy(), xj)]\n",
    "    \n",
    "    return sum(PartialList)"
   ]
  },
  {
   "cell_type": "code",
   "execution_count": 379,
   "id": "19534393",
   "metadata": {},
   "outputs": [],
   "source": [
    "def PartialLL(y, X, beta):\n",
    "    \n",
    "    partials = []\n",
    "    # Loop through each parameter\n",
    "    for j in range(len(beta)):\n",
    "        \n",
    "        # Append the partial derivative of the Log-Likelihood\n",
    "        # w.r.t to each parameter\n",
    "        partials.append(PartialIndBeta(y, X, beta, j))\n",
    "        \n",
    "    return np.array(partials, dtype = np.float64)\n",
    "    "
   ]
  },
  {
   "cell_type": "code",
   "execution_count": 380,
   "id": "b86ce6f4",
   "metadata": {},
   "outputs": [
    {
     "data": {
      "text/plain": [
       "array([-1.61343515,  0.98858098,  0.40125501])"
      ]
     },
     "execution_count": 380,
     "metadata": {},
     "output_type": "execute_result"
    }
   ],
   "source": [
    "PartialLL(y, X, [1,1,1])"
   ]
  },
  {
   "cell_type": "markdown",
   "id": "00f38262",
   "metadata": {},
   "source": [
    "## <font color = \"brown\"> Calculate Second Derivative (Jacobian) </font>"
   ]
  },
  {
   "cell_type": "code",
   "execution_count": 381,
   "id": "ccbbf0b5",
   "metadata": {},
   "outputs": [],
   "source": [
    "def PartialPartialIndRow(y, xi, beta, xij, xik):\n",
    "    \n",
    "    # Calculate the double partial derivative value for each row\n",
    "    return (-xij * xik) * ProbHat(xi, beta) * (1 - ProbHat(xi, beta))"
   ]
  },
  {
   "cell_type": "code",
   "execution_count": 382,
   "id": "ad95beef",
   "metadata": {},
   "outputs": [],
   "source": [
    "def PartialPartialTwoBeta(y, X, beta, j, k):\n",
    "    \n",
    "    # Calculating double derivatives of the Log-Likelihood \n",
    "    # with respect to beta-j and beta-k\n",
    "    xj = X.iloc[:,j]\n",
    "    xk = X.iloc[:,k]\n",
    "    PartialList = [PartialPartialIndRow(y, x, beta, j, k) for y, x, j, k in zip(y.to_numpy(), X.to_numpy(), xj, xk)]\n",
    "    \n",
    "    return sum(PartialList)"
   ]
  },
  {
   "cell_type": "code",
   "execution_count": 383,
   "id": "dc50b1de",
   "metadata": {},
   "outputs": [],
   "source": [
    "def PartialPartialLL(y, X, beta):\n",
    "    \n",
    "    Jacobi = np.zeros([3,3])\n",
    "    \n",
    "    # Loop through each parameter as row\n",
    "    for j in range(len(beta)):\n",
    "        \n",
    "        # Loop through each parameter as column\n",
    "        for k in range(len(beta)):\n",
    "            \n",
    "            # The Jacobian is symmetric,\n",
    "            # We only need to calculate upper triangle\n",
    "            if j <= k:\n",
    "                \n",
    "                # Calculate double derivatives\n",
    "                PartialValues = PartialPartialTwoBeta(y, X, beta, j, k)\n",
    "                Jacobi[j][k] = PartialValues\n",
    "                \n",
    "                # Insert for lower triangle\n",
    "                if j != k:\n",
    "                    Jacobi[k][j] = PartialValues\n",
    "                \n",
    "    return Jacobi      "
   ]
  },
  {
   "cell_type": "markdown",
   "id": "9e4db54f",
   "metadata": {},
   "source": [
    "## <font color = \"brown\"> Estimating Parameters using Newton's Method </font>"
   ]
  },
  {
   "cell_type": "code",
   "execution_count": 389,
   "id": "00ae7cb6",
   "metadata": {},
   "outputs": [],
   "source": [
    "def NewtonEstimator(y, X, beta):\n",
    "    i = 0\n",
    "    while sum(abs(PartialLL(y, X, beta))) > 1e-6:\n",
    "        \n",
    "        # First derivative\n",
    "        DLL = PartialLL(y, X, beta)\n",
    "        \n",
    "        # Second derivative\n",
    "        DDLL = PartialPartialLL(y, X, beta)\n",
    "        print(beta)\n",
    "        DDLLInv = np.linalg.inv(DDLL)\n",
    "        AdditionFactor = np.matmul(DDLLInv, DLL)\n",
    "        beta = beta + AdditionFactor\n",
    "        #print(sum(abs(PartialLL(y, X, beta))))\n",
    "        \n",
    "        i+=1\n",
    "        \n",
    "    return beta"
   ]
  },
  {
   "cell_type": "code",
   "execution_count": 1,
   "id": "eea56c23",
   "metadata": {},
   "outputs": [],
   "source": [
    "#NewtonEstimator(y, X, [0.019, 0.88, 0.65])"
   ]
  },
  {
   "cell_type": "code",
   "execution_count": null,
   "id": "b9e6a5a8",
   "metadata": {},
   "outputs": [],
   "source": []
  }
 ],
 "metadata": {
  "kernelspec": {
   "display_name": "Python 3 (ipykernel)",
   "language": "python",
   "name": "python3"
  },
  "language_info": {
   "codemirror_mode": {
    "name": "ipython",
    "version": 3
   },
   "file_extension": ".py",
   "mimetype": "text/x-python",
   "name": "python",
   "nbconvert_exporter": "python",
   "pygments_lexer": "ipython3",
   "version": "3.7.7"
  }
 },
 "nbformat": 4,
 "nbformat_minor": 5
}
